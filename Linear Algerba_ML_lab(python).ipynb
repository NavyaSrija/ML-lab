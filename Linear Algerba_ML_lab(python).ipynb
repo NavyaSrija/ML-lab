{
  "nbformat": 4,
  "nbformat_minor": 0,
  "metadata": {
    "colab": {
      "name": "19H61A3526-ML lab(python)",
      "provenance": []
    },
    "kernelspec": {
      "name": "python3",
      "display_name": "Python 3"
    },
    "language_info": {
      "name": "python"
    }
  },
  "cells": [
    {
      "cell_type": "code",
      "metadata": {
        "colab": {
          "base_uri": "https://localhost:8080/"
        },
        "id": "3UKW0NY7ga8D",
        "outputId": "0f8b5a00-98dd-4e1a-f82f-d2ee35fa184c"
      },
      "source": [
        "#concatination of 2 strings\n",
        "greeting=\"hello\"\n",
        "name=\"navya\"\n",
        "print(greeting + name)\n"
      ],
      "execution_count": null,
      "outputs": [
        {
          "output_type": "stream",
          "text": [
            "hellonavya\n"
          ],
          "name": "stdout"
        }
      ]
    },
    {
      "cell_type": "code",
      "metadata": {
        "colab": {
          "base_uri": "https://localhost:8080/"
        },
        "id": "Xfp9Mz7ghJqv",
        "outputId": "899cdd48-673e-4e42-ebe3-336889f942a1"
      },
      "source": [
        "numlist=[12,3,4]\n",
        "numlist"
      ],
      "execution_count": null,
      "outputs": [
        {
          "output_type": "execute_result",
          "data": {
            "text/plain": [
              "[12, 3, 4]"
            ]
          },
          "metadata": {},
          "execution_count": 3
        }
      ]
    },
    {
      "cell_type": "code",
      "metadata": {
        "colab": {
          "base_uri": "https://localhost:8080/"
        },
        "id": "yXc2DNu_hXae",
        "outputId": "d5c65b11-27ad-4fdb-f965-14292090d2c0"
      },
      "source": [
        "import numpy as np\n",
        "np.mean(numlist)\n"
      ],
      "execution_count": null,
      "outputs": [
        {
          "output_type": "execute_result",
          "data": {
            "text/plain": [
              "6.333333333333333"
            ]
          },
          "metadata": {},
          "execution_count": 4
        }
      ]
    },
    {
      "cell_type": "code",
      "metadata": {
        "colab": {
          "base_uri": "https://localhost:8080/"
        },
        "id": "lW2Liuz7hrl2",
        "outputId": "d73e42e5-0bad-49d5-ded8-b2ae0b1a3da1"
      },
      "source": [
        "np.linspace(1,10,5)\n"
      ],
      "execution_count": null,
      "outputs": [
        {
          "output_type": "execute_result",
          "data": {
            "text/plain": [
              "array([ 1.  ,  3.25,  5.5 ,  7.75, 10.  ])"
            ]
          },
          "metadata": {},
          "execution_count": 6
        }
      ]
    },
    {
      "cell_type": "code",
      "metadata": {
        "id": "4O-1RFfrh4QW"
      },
      "source": [
        "#importing numpy and matptlotlib\n",
        "import matplotlib.pyplot as plt\n",
        "import numpy as np\n",
        "\n"
      ],
      "execution_count": null,
      "outputs": []
    },
    {
      "cell_type": "code",
      "metadata": {
        "colab": {
          "base_uri": "https://localhost:8080/",
          "height": 265
        },
        "id": "g7dtNMCkizK-",
        "outputId": "61e4b339-084e-4064-dc64-9a2d927ac323"
      },
      "source": [
        "plt.plot(1,3,'rs')\n",
        "plt.show()"
      ],
      "execution_count": null,
      "outputs": [
        {
          "output_type": "display_data",
          "data": {
            "image/png": "[encoded data removed]",
            "text/plain": [
              "<Figure size 432x288 with 1 Axes>"
            ]
          },
          "metadata": {
            "needs_background": "light"
          }
        }
      ]
    },
    {
      "cell_type": "code",
      "metadata": {
        "colab": {
          "base_uri": "https://localhost:8080/",
          "height": 282
        },
        "id": "vAV0nHN2i36-",
        "outputId": "5e800c6a-72cc-41ec-afe0-4144b46cb046"
      },
      "source": [
        "x = np.arange(-9,10)\n",
        "print(x)\n",
        "y = x**2\n",
        "plt.plot(x,y,'r')\n",
        "plt.plot(x,y/2,'gs')\n",
        "plt.show()"
      ],
      "execution_count": null,
      "outputs": [
        {
          "output_type": "stream",
          "text": [
            "[-9 -8 -7 -6 -5 -4 -3 -2 -1  0  1  2  3  4  5  6  7  8  9]\n"
          ],
          "name": "stdout"
        },
        {
          "output_type": "display_data",
          "data": {
            "image/png": "[encoded data removed]",
            "text/plain": [
              "<Figure size 432x288 with 1 Axes>"
            ]
          },
          "metadata": {
            "needs_background": "light"
          }
        }
      ]
    },
    {
      "cell_type": "code",
      "metadata": {
        "colab": {
          "base_uri": "https://localhost:8080/",
          "height": 265
        },
        "id": "XyIt_qS8jf1m",
        "outputId": "da1fcd51-dba2-45eb-e5ef-155e62509940"
      },
      "source": [
        "plt.plot([0,3],[-1,1],label='first')\n",
        "plt.plot([-2,0],[-4,1],label='second')\n",
        "plt.legend()\n",
        "plt.show()"
      ],
      "execution_count": null,
      "outputs": [
        {
          "output_type": "display_data",
          "data": {
            "image/png": "[encoded data removed]",
            "text/plain": [
              "<Figure size 432x288 with 1 Axes>"
            ]
          },
          "metadata": {
            "needs_background": "light"
          }
        }
      ]
    },
    {
      "cell_type": "code",
      "metadata": {
        "colab": {
          "base_uri": "https://localhost:8080/"
        },
        "id": "XEv1p78PjgCe",
        "outputId": "8f7a6e20-8b05-4be5-9578-7d5ee1d364f4"
      },
      "source": [
        "M = np.random.randint(0,10,size=(4,5))\n",
        "M"
      ],
      "execution_count": null,
      "outputs": [
        {
          "output_type": "execute_result",
          "data": {
            "text/plain": [
              "array([[8, 5, 4, 9, 4],\n",
              "       [5, 8, 6, 1, 2],\n",
              "       [3, 7, 4, 6, 0],\n",
              "       [3, 3, 5, 9, 6]])"
            ]
          },
          "metadata": {},
          "execution_count": 20
        }
      ]
    },
    {
      "cell_type": "code",
      "metadata": {
        "colab": {
          "base_uri": "https://localhost:8080/",
          "height": 269
        },
        "id": "kaCi0oSjjgDd",
        "outputId": "99a427fc-b248-429b-b81b-646f7533d705"
      },
      "source": [
        "plt.imshow(M)\n",
        "plt.show()"
      ],
      "execution_count": null,
      "outputs": [
        {
          "output_type": "display_data",
          "data": {
            "image/png": "[encoded data removed]",
            "text/plain": [
              "<Figure size 432x288 with 1 Axes>"
            ]
          },
          "metadata": {
            "needs_background": "light"
          }
        }
      ]
    },
    {
      "cell_type": "code",
      "metadata": {
        "colab": {
          "base_uri": "https://localhost:8080/"
        },
        "id": "NWndeDFrlFVY",
        "outputId": "f90ca0ed-5f01-4548-fc33-14aa8fa88354"
      },
      "source": [
        "#appends vec s times to vec\n",
        "vec = np.array([3,4,5,2])\n",
        "s = 3\n",
        "vec*s"
      ],
      "execution_count": null,
      "outputs": [
        {
          "output_type": "execute_result",
          "data": {
            "text/plain": [
              "array([ 9, 12, 15,  6])"
            ]
          },
          "metadata": {},
          "execution_count": 25
        }
      ]
    },
    {
      "cell_type": "code",
      "metadata": {
        "colab": {
          "base_uri": "https://localhost:8080/"
        },
        "id": "gZ6w8WfMlngX",
        "outputId": "9a6ee6dc-fce5-422d-9e93-4787bc6a383b"
      },
      "source": [
        "vec2d = np.array([1,3])\n",
        "s1=2\n",
        "s2=.5\n",
        "s3=-1\n",
        "vec2d[1]\n"
      ],
      "execution_count": null,
      "outputs": [
        {
          "output_type": "execute_result",
          "data": {
            "text/plain": [
              "3"
            ]
          },
          "metadata": {},
          "execution_count": 26
        }
      ]
    },
    {
      "cell_type": "code",
      "metadata": {
        "colab": {
          "base_uri": "https://localhost:8080/",
          "height": 282
        },
        "id": "UwHlqylWlnrF",
        "outputId": "57bfad96-09df-41a9-b781-446967f495d3"
      },
      "source": [
        "plt.plot([0,vec2d[0]],[0,vec2d[1]],'bs-')"
      ],
      "execution_count": null,
      "outputs": [
        {
          "output_type": "execute_result",
          "data": {
            "text/plain": [
              "[<matplotlib.lines.Line2D at 0x7fbd04161850>]"
            ]
          },
          "metadata": {},
          "execution_count": 27
        },
        {
          "output_type": "display_data",
          "data": {
            "image/png": "[encoded data removed]",
            "text/plain": [
              "<Figure size 432x288 with 1 Axes>"
            ]
          },
          "metadata": {
            "needs_background": "light"
          }
        }
      ]
    },
    {
      "cell_type": "code",
      "metadata": {
        "colab": {
          "base_uri": "https://localhost:8080/"
        },
        "id": "gzMnHh3vmf_g",
        "outputId": "1e1950e9-c6a0-45c1-bda5-5f62ed074d00"
      },
      "source": [
        "v1 = np.array([1,4,5,6])\n",
        "v2 = np.array([4,5,7,8])\n",
        "np.dot(v1,v2)"
      ],
      "execution_count": null,
      "outputs": [
        {
          "output_type": "execute_result",
          "data": {
            "text/plain": [
              "107"
            ]
          },
          "metadata": {},
          "execution_count": 28
        }
      ]
    },
    {
      "cell_type": "code",
      "metadata": {
        "colab": {
          "base_uri": "https://localhost:8080/"
        },
        "id": "rdyN9QTnmgGG",
        "outputId": "c347b0cb-cda8-4c2f-bd06-77ac309571a8"
      },
      "source": [
        "\n",
        "v3 = np.array([-1,5,-4,2])\n",
        "np.dot(v2,v3)"
      ],
      "execution_count": null,
      "outputs": [
        {
          "output_type": "execute_result",
          "data": {
            "text/plain": [
              "9"
            ]
          },
          "metadata": {},
          "execution_count": 29
        }
      ]
    },
    {
      "cell_type": "code",
      "metadata": {
        "colab": {
          "base_uri": "https://localhost:8080/"
        },
        "id": "4M0vpAxcuaVg",
        "outputId": "cd271b8a-2ef3-45f2-d489-d90d801b8ccb"
      },
      "source": [
        "#if dot product of two matrices is zero then they are orthogonal\n",
        "d=np.array([-4,3,1])\n",
        "k=np.array([2,3,-1])\n",
        "np.dot(d,k)"
      ],
      "execution_count": null,
      "outputs": [
        {
          "output_type": "execute_result",
          "data": {
            "text/plain": [
              "0"
            ]
          },
          "metadata": {},
          "execution_count": 54
        }
      ]
    },
    {
      "cell_type": "code",
      "metadata": {
        "colab": {
          "base_uri": "https://localhost:8080/"
        },
        "id": "bnzINBrUnUBN",
        "outputId": "630fb616-f8cb-4dde-fde2-a7a491c593e2"
      },
      "source": [
        "#eye is used to display identity matrix\n",
        "np.eye(3)"
      ],
      "execution_count": null,
      "outputs": [
        {
          "output_type": "execute_result",
          "data": {
            "text/plain": [
              "array([[1., 0., 0.],\n",
              "       [0., 1., 0.],\n",
              "       [0., 0., 1.]])"
            ]
          },
          "metadata": {},
          "execution_count": 57
        }
      ]
    },
    {
      "cell_type": "code",
      "metadata": {
        "colab": {
          "base_uri": "https://localhost:8080/"
        },
        "id": "NpApXlHznUKm",
        "outputId": "03da1484-2c2c-47a3-abe3-fe19387e858a"
      },
      "source": [
        "np.zeros((3,4))"
      ],
      "execution_count": null,
      "outputs": [
        {
          "output_type": "execute_result",
          "data": {
            "text/plain": [
              "array([[0., 0., 0., 0.],\n",
              "       [0., 0., 0., 0.],\n",
              "       [0., 0., 0., 0.]])"
            ]
          },
          "metadata": {},
          "execution_count": 31
        }
      ]
    },
    {
      "cell_type": "code",
      "metadata": {
        "colab": {
          "base_uri": "https://localhost:8080/"
        },
        "id": "sDMPrXt4nUTu",
        "outputId": "da81903a-9da1-4392-c5a5-1659ca097202"
      },
      "source": [
        "np.full((5,3),6)"
      ],
      "execution_count": null,
      "outputs": [
        {
          "output_type": "execute_result",
          "data": {
            "text/plain": [
              "array([[6, 6, 6],\n",
              "       [6, 6, 6],\n",
              "       [6, 6, 6],\n",
              "       [6, 6, 6],\n",
              "       [6, 6, 6]])"
            ]
          },
          "metadata": {},
          "execution_count": 32
        }
      ]
    },
    {
      "cell_type": "code",
      "metadata": {
        "colab": {
          "base_uri": "https://localhost:8080/"
        },
        "id": "316tJOWFn2j5",
        "outputId": "a7ede076-14e2-4513-999b-6f3fcf2bca20"
      },
      "source": [
        "M=np.array([[1,2,3],[3,4,5],[5,6,7]])\n",
        "print(M)"
      ],
      "execution_count": null,
      "outputs": [
        {
          "output_type": "stream",
          "text": [
            "[[1 2 3]\n",
            " [3 4 5]\n",
            " [5 6 7]]\n"
          ],
          "name": "stdout"
        }
      ]
    },
    {
      "cell_type": "code",
      "metadata": {
        "colab": {
          "base_uri": "https://localhost:8080/"
        },
        "id": "1LXS6PmVn2rO",
        "outputId": "f6287a7f-4994-40e1-b116-b179d8a7c158"
      },
      "source": [
        "# transposing the matrix\n",
        "v1 = np.array([2,5,6],ndmin=2)\n",
        "print(v1)\n",
        "print(' ')\n",
        "print(v1.T)"
      ],
      "execution_count": null,
      "outputs": [
        {
          "output_type": "stream",
          "text": [
            "[[2 5 6]]\n",
            " \n",
            "[[2]\n",
            " [5]\n",
            " [6]]\n"
          ],
          "name": "stdout"
        }
      ]
    },
    {
      "cell_type": "code",
      "metadata": {
        "colab": {
          "base_uri": "https://localhost:8080/"
        },
        "id": "aDe4tEr3n2xO",
        "outputId": "59670f2f-debc-489b-87ce-cd1d9eaf9606"
      },
      "source": [
        "M=np.round(10*np.random.randn(3,3))\n",
        "print(M)\n",
        "print(' ')\n",
        "print(M.T)"
      ],
      "execution_count": null,
      "outputs": [
        {
          "output_type": "stream",
          "text": [
            "[[-15.  -3.  -2.]\n",
            " [  9.   5.  -3.]\n",
            " [ -9.   8.   6.]]\n",
            " \n",
            "[[-15.   9.  -9.]\n",
            " [ -3.   5.   8.]\n",
            " [ -2.  -3.   6.]]\n"
          ],
          "name": "stdout"
        }
      ]
    },
    {
      "cell_type": "code",
      "metadata": {
        "colab": {
          "base_uri": "https://localhost:8080/"
        },
        "id": "qpTmlAc4o9ce",
        "outputId": "8a3aea20-3d49-42c8-fc1d-387b5ea0e740"
      },
      "source": [
        "#we can use matmul to multiply two matrices\n",
        "M1=np.random.randn(4,5)\n",
        "M2=np.random.randn(4,5)\n",
        "print(np.matmul(M1,M2.T))\n",
        "print(' ')\n",
        "print(M1*M2)\n",
        "      "
      ],
      "execution_count": null,
      "outputs": [
        {
          "output_type": "stream",
          "text": [
            "[[ 1.3366728  -0.46776042  0.75683434  0.09109207]\n",
            " [ 0.45311839  1.03671777 -2.24453466 -0.52546398]\n",
            " [ 2.9543758  -0.49154353  3.08198599  0.73987053]\n",
            " [-0.67618709  3.22257951 -3.14702345  1.42104906]]\n",
            " \n",
            "[[-0.59531622  2.80632186 -1.05533244  0.08722703  0.09377257]\n",
            " [ 1.15670975  0.03986649  0.83275102 -0.71400571 -0.27860378]\n",
            " [ 0.31373448  0.10254071  3.38017245 -0.19573757 -0.51872408]\n",
            " [-0.05580112  0.09498087 -0.10192397  1.53196337 -0.04817009]]\n"
          ],
          "name": "stdout"
        }
      ]
    },
    {
      "cell_type": "code",
      "metadata": {
        "colab": {
          "base_uri": "https://localhost:8080/"
        },
        "id": "tiXPEaNko9kd",
        "outputId": "1fa2a631-3db4-4b87-cd9f-713580fd9c7b"
      },
      "source": [
        "#the linalg.inv()function gives inverse , atrix as output\n",
        "A=np.random.randn(4,4)\n",
        "Ainv = np.linalg.inv(A)\n",
        "print(A)\n",
        "print(' ')\n",
        "print(Ainv)\n"
      ],
      "execution_count": null,
      "outputs": [
        {
          "output_type": "stream",
          "text": [
            "[[ 1.2115352  -0.76357872 -1.71671429  0.79888202]\n",
            " [-0.78186284  1.99351121 -0.1427921   1.33888361]\n",
            " [ 0.51443332  1.73135218  0.73310339 -0.14278179]\n",
            " [-0.17076709  0.3905749  -1.0356924   0.16103988]]\n",
            " \n",
            "[[ 0.45362134 -0.17264902  0.48556737 -0.38439428]\n",
            " [-0.08340734  0.04241046  0.39846882  0.41445658]\n",
            " [-0.04652033  0.13737725  0.02241748 -0.89150015]\n",
            " [ 0.38412629  0.59757457 -0.30734855 -0.93665097]]\n"
          ],
          "name": "stdout"
        }
      ]
    },
    {
      "cell_type": "code",
      "metadata": {
        "colab": {
          "base_uri": "https://localhost:8080/",
          "height": 146
        },
        "id": "0Gcz6aD-raZv",
        "outputId": "5f047fc5-4881-43b0-98d6-c8e11454930d"
      },
      "source": [
        "fig,ax=plt.subplots(1,3,figsize=(6,5))\n",
        "ax[0].imshow(A)\n",
        "ax[1].imshow(Ainv)\n",
        "ax[2].imshow(Ainv)\n",
        "plt.show()"
      ],
      "execution_count": null,
      "outputs": [
        {
          "output_type": "display_data",
          "data": {
            "image/png": "[encoded data removed]",
            "text/plain": [
              "<Figure size 432x360 with 3 Axes>"
            ]
          },
          "metadata": {
            "needs_background": "light"
          }
        }
      ]
    },
    {
      "cell_type": "code",
      "metadata": {
        "id": "eojgcj8llFZV"
      },
      "source": [
        ""
      ],
      "execution_count": null,
      "outputs": []
    }
  ]
}